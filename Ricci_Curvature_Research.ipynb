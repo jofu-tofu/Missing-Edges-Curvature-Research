{
  "nbformat": 4,
  "nbformat_minor": 0,
  "metadata": {
    "colab": {
      "provenance": []
    },
    "kernelspec": {
      "name": "python3",
      "display_name": "Python 3"
    },
    "language_info": {
      "name": "python"
    }
  },
  "cells": [
    {
      "cell_type": "markdown",
      "source": [
        "\n",
        "# Importing"
      ],
      "metadata": {
        "id": "zCFDf7eqQLiZ"
      }
    },
    {
      "cell_type": "code",
      "source": [
        "# colab setting\n",
        "!pip install GraphRicciCurvature\n",
        "!pip install scikit-learn\n",
        "\n",
        "# import sys\n",
        "# sys.path.append(\"../\")\n",
        "\n",
        "\n",
        "import networkx as nx\n",
        "import numpy as np\n",
        "import math\n",
        "import random\n",
        "\n",
        "# matplotlib setting\n",
        "%matplotlib inline\n",
        "import matplotlib.pyplot as plt\n",
        "\n",
        "# to print logs in jupyter notebook\n",
        "import logging\n",
        "logging.basicConfig(format='%(levelname)s:%(message)s', level=logging.ERROR)\n",
        "\n",
        "# load GraphRicciCuravture package\n",
        "from GraphRicciCurvature.OllivierRicci import OllivierRicci\n",
        "from GraphRicciCurvature.FormanRicci import FormanRicci\n",
        "\n",
        "\n",
        "# load python-louvain for modularity computation\n",
        "import community.community_louvain as community_louvain\n",
        "\n",
        "# for ARI computation\n",
        "from sklearn import preprocessing, metrics"
      ],
      "metadata": {
        "colab": {
          "base_uri": "https://localhost:8080/"
        },
        "id": "Ytc78HmrQO6_",
        "outputId": "70f7994e-93bf-42f3-b75c-f20bc51e7dcd"
      },
      "execution_count": 4,
      "outputs": [
        {
          "output_type": "stream",
          "name": "stdout",
          "text": [
            "Requirement already satisfied: GraphRicciCurvature in /usr/local/lib/python3.10/dist-packages (0.5.3.1)\n",
            "Requirement already satisfied: cython in /usr/local/lib/python3.10/dist-packages (from GraphRicciCurvature) (3.0.8)\n",
            "Requirement already satisfied: numpy in /usr/local/lib/python3.10/dist-packages (from GraphRicciCurvature) (1.25.2)\n",
            "Requirement already satisfied: scipy>=1.0 in /usr/local/lib/python3.10/dist-packages (from GraphRicciCurvature) (1.11.4)\n",
            "Requirement already satisfied: networkx>=2.0 in /usr/local/lib/python3.10/dist-packages (from GraphRicciCurvature) (3.2.1)\n",
            "Requirement already satisfied: pot>=0.8.0 in /usr/local/lib/python3.10/dist-packages (from GraphRicciCurvature) (0.9.3)\n",
            "Requirement already satisfied: packaging in /usr/local/lib/python3.10/dist-packages (from GraphRicciCurvature) (23.2)\n",
            "Requirement already satisfied: networkit>=6.1 in /usr/local/lib/python3.10/dist-packages (from GraphRicciCurvature) (11.0)\n",
            "Requirement already satisfied: python-louvain in /usr/local/lib/python3.10/dist-packages (from GraphRicciCurvature) (0.16)\n",
            "Requirement already satisfied: scikit-learn in /usr/local/lib/python3.10/dist-packages (1.2.2)\n",
            "Requirement already satisfied: numpy>=1.17.3 in /usr/local/lib/python3.10/dist-packages (from scikit-learn) (1.25.2)\n",
            "Requirement already satisfied: scipy>=1.3.2 in /usr/local/lib/python3.10/dist-packages (from scikit-learn) (1.11.4)\n",
            "Requirement already satisfied: joblib>=1.1.1 in /usr/local/lib/python3.10/dist-packages (from scikit-learn) (1.3.2)\n",
            "Requirement already satisfied: threadpoolctl>=2.0.0 in /usr/local/lib/python3.10/dist-packages (from scikit-learn) (3.3.0)\n"
          ]
        }
      ]
    },
    {
      "cell_type": "code",
      "execution_count": 2,
      "metadata": {
        "colab": {
          "base_uri": "https://localhost:8080/"
        },
        "id": "rUNANr6YQYwR",
        "outputId": "dcaba96d-97ea-45a9-85ae-8328d73c4b16"
      },
      "outputs": [
        {
          "output_type": "stream",
          "name": "stdout",
          "text": [
            "0.5.3.1\n"
          ]
        }
      ],
      "source": [
        "import GraphRicciCurvature\n",
        "print(GraphRicciCurvature.__version__)"
      ]
    },
    {
      "cell_type": "markdown",
      "source": [
        "# Helper Functions"
      ],
      "metadata": {
        "id": "rLPHI-kZS9il"
      }
    },
    {
      "cell_type": "code",
      "source": [
        "def draw_graph(G, clustering_label=\"club\"):\n",
        "    \"\"\"\n",
        "    A helper function to draw a nx graph with community.\n",
        "    \"\"\"\n",
        "    complex_list = nx.get_node_attributes(G, clustering_label)\n",
        "\n",
        "    le = preprocessing.LabelEncoder()\n",
        "    node_color = le.fit_transform(list(complex_list.values()))\n",
        "\n",
        "\n",
        "    nx.draw_spring(G, nodelist=G.nodes(),\n",
        "                   node_color=node_color,\n",
        "                   cmap=plt.cm.rainbow,\n",
        "                   alpha=0.8)\n",
        "\n",
        "\n",
        "\n",
        "def show_results(G, curvature=\"ricciCurvature\"):\n",
        "    \"\"\"\n",
        "    A helper function to show summary of curvature in a graph\n",
        "\n",
        "    # parameters\n",
        "     - G : networkx graph\n",
        "    # returns\n",
        "     - plot of summaries\n",
        "    \"\"\"\n",
        "    # Print the first five results\n",
        "    print(\"Graph, first 5 edges: \")\n",
        "    for n1,n2 in list(G.edges())[:5]:\n",
        "        print(\"Ricci curvature of edge (%s,%s) is %f\" % (n1 ,n2, G[n1][n2][curvature]))\n",
        "\n",
        "    # Plot the histogram of Ricci curvatures\n",
        "    plt.subplot(2, 1, 1)\n",
        "    ricci_curvtures = nx.get_edge_attributes(G, curvature).values()\n",
        "    plt.hist(ricci_curvtures,bins=20)\n",
        "    plt.xlabel('Ricci curvature')\n",
        "    plt.title(\"Histogram of Ricci Curvatures\")\n",
        "\n",
        "    # Plot the histogram of edge weights\n",
        "    plt.subplot(2, 1, 2)\n",
        "    weights = nx.get_edge_attributes(G, \"weight\").values()\n",
        "    plt.hist(weights,bins=20)\n",
        "    plt.xlabel('Edge weight')\n",
        "    plt.title(\"Histogram of Edge weights\")\n",
        "\n",
        "    plt.tight_layout()\n",
        "\n",
        "\n",
        "def ARI(G, clustering, clustering_label=\"club\"):\n",
        "    \"\"\"\n",
        "    Computer the Adjust Rand Index (clustering accuracy) of \"clustering\" with \"clustering_label\" as ground truth.\n",
        "\n",
        "    Parameters\n",
        "    ----------\n",
        "    G : NetworkX graph\n",
        "        A given NetworkX graph with node attribute \"clustering_label\" as ground truth.\n",
        "    clustering : dict or list or list of set\n",
        "        Predicted community clustering.\n",
        "    clustering_label : str\n",
        "        Node attribute name for ground truth.\n",
        "\n",
        "    Returns\n",
        "    -------\n",
        "    ari : float\n",
        "        Adjust Rand Index for predicted community.\n",
        "    \"\"\"\n",
        "\n",
        "    complex_list = nx.get_node_attributes(G, clustering_label)\n",
        "\n",
        "    le = preprocessing.LabelEncoder()\n",
        "    y_true = le.fit_transform(list(complex_list.values()))\n",
        "\n",
        "    if isinstance(clustering, dict):\n",
        "        # python-louvain partition format\n",
        "        y_pred = np.array([clustering[v] for v in complex_list.keys()])\n",
        "    elif isinstance(clustering[0], set):\n",
        "        # networkx partition format\n",
        "        predict_dict = {c: idx for idx, comp in enumerate(clustering) for c in comp}\n",
        "        y_pred = np.array([predict_dict[v] for v in complex_list.keys()])\n",
        "    elif isinstance(clustering, list):\n",
        "        # sklearn partition format\n",
        "        y_pred = clustering\n",
        "    else:\n",
        "        return -1\n",
        "\n",
        "    return metrics.adjusted_rand_score(y_true, y_pred)\n",
        "\n",
        "\n",
        "def my_surgery(G_origin: nx.Graph(), weight=\"weight\", cut=0):\n",
        "    \"\"\"A simple surgery function that remove the edges with weight above a threshold\n",
        "\n",
        "    Parameters\n",
        "    ----------\n",
        "    G_origin : NetworkX graph\n",
        "        A graph with ``weight`` as Ricci flow metric to cut.\n",
        "    weight: str\n",
        "        The edge weight used as Ricci flow metric. (Default value = \"weight\")\n",
        "    cut: float\n",
        "        Manually assigned cutoff point.\n",
        "\n",
        "    Returns\n",
        "    -------\n",
        "    G : NetworkX graph\n",
        "        A graph after surgery.\n",
        "    \"\"\"\n",
        "    G = G_origin.copy()\n",
        "    w = nx.get_edge_attributes(G, weight)\n",
        "\n",
        "    assert cut >= 0, \"Cut value should be greater than 0.\"\n",
        "    if not cut:\n",
        "        cut = (max(w.values()) - 1.0) * 0.6 + 1.0  # Guess a cut point as default\n",
        "\n",
        "    to_cut = []\n",
        "    for n1, n2 in G.edges():\n",
        "        if G[n1][n2][weight] > cut:\n",
        "            to_cut.append((n1, n2))\n",
        "    print(\"*************** Surgery time ****************\")\n",
        "    print(\"* Cut %d edges.\" % len(to_cut))\n",
        "    G.remove_edges_from(to_cut)\n",
        "    print(\"* Number of nodes now: %d\" % G.number_of_nodes())\n",
        "    print(\"* Number of edges now: %d\" % G.number_of_edges())\n",
        "    cc = list(nx.connected_components(G))\n",
        "    print(\"* Modularity now: %f \" % nx.algorithms.community.quality.modularity(G, cc))\n",
        "    print(\"* ARI now: %f \" % ARI(G, cc))\n",
        "    print(\"*********************************************\")\n",
        "\n",
        "    return G"
      ],
      "metadata": {
        "id": "dN2Zg8DaS__a"
      },
      "execution_count": 8,
      "outputs": []
    },
    {
      "cell_type": "markdown",
      "source": [
        "# Missing Edges Helpers"
      ],
      "metadata": {
        "id": "nMOG6GAib474"
      }
    },
    {
      "cell_type": "code",
      "source": [
        "def block_model_with_edge_removal(block_sizes, prob_matrix, p = 0, method=\"uniform\"):\n",
        "    \"\"\"\n",
        "    Generates a block model graph and removes edges according to the specified method:\n",
        "    uniformly, by degree, or based on inter-community probabilities.\n",
        "\n",
        "    Parameters:\n",
        "    - block_sizes : array-like, the size of each community.\n",
        "    - prob_matrix : array-like, matrix of probabilities for edge creation between communities.\n",
        "    - p : float, array-like, or matrix, specifying the probability or proportions of edges to remove.\n",
        "      Interpreted based on the 'method' parameter.\n",
        "    - method : str, method for edge removal (\"uniform\", \"degree\", or \"weighted\").\n",
        "\n",
        "    Returns:\n",
        "    - G : networkx graph, a graph with edges removed according to the specified method.\n",
        "    \"\"\"\n",
        "\n",
        "    # Generate a stochastic block model graph\n",
        "    G = nx.generators.community.stochastic_block_model(block_sizes, prob_matrix)\n",
        "\n",
        "    # Assign 'block' attribute to each node based on its community\n",
        "    club_attribute = {node: G.nodes[node]['block'] for node in G.nodes}\n",
        "    nx.set_node_attributes(G, club_attribute, name='club')\n",
        "\n",
        "    if method == \"uniform\" or method == \"degree\":\n",
        "        edges_to_consider = list(G.edges(data=True))\n",
        "    else:\n",
        "        edges_to_consider = G.edges(data='block')\n",
        "\n",
        "    if method == \"uniform\":\n",
        "        for edge in edges_to_consider:\n",
        "            if random.random() < p:\n",
        "                G.remove_edge(edge[0], edge[1])\n",
        "\n",
        "    elif method == \"degree\":\n",
        "        for node in list(G.nodes()):\n",
        "            adjacent_edges = list(G.edges(node))\n",
        "            num_to_remove = int(len(adjacent_edges) * p)\n",
        "            edges_to_remove = random.sample(adjacent_edges, num_to_remove)\n",
        "            G.remove_edges_from(edges_to_remove)\n",
        "\n",
        "    elif method == \"weighted\":\n",
        "        if not isinstance(p, (list, np.ndarray)) or np.shape(p) != (len(block_sizes), len(block_sizes)):\n",
        "            raise ValueError(\"For 'weighted' method, p must be a matrix matching the number of communities.\")\n",
        "\n",
        "        for edge in edges_to_consider:\n",
        "            source_block = G.nodes[edge[0]]['block']\n",
        "            target_block = G.nodes[edge[1]]['block']\n",
        "            removal_prob = p[source_block][target_block]\n",
        "\n",
        "            if random.random() < removal_prob:\n",
        "                G.remove_edge(edge[0], edge[1])\n",
        "\n",
        "    else:\n",
        "        raise ValueError(\"Invalid method specified. Choose 'uniform', 'degree', or 'weighted'.\")\n",
        "\n",
        "    return G\n"
      ],
      "metadata": {
        "id": "vaLYTdUWcE9-"
      },
      "execution_count": 9,
      "outputs": []
    }
  ]
}